{
 "cells": [
  {
   "cell_type": "code",
   "execution_count": 1,
   "metadata": {},
   "outputs": [],
   "source": [
    "import pandas as pd"
   ]
  },
  {
   "cell_type": "code",
   "execution_count": 6,
   "metadata": {},
   "outputs": [],
   "source": [
    "ga_page_data = pd.read_csv('data/ga_data/ga_pages.csv', skiprows=6, nrows=376)"
   ]
  },
  {
   "cell_type": "code",
   "execution_count": 7,
   "metadata": {},
   "outputs": [],
   "source": [
    "gsc_page = pd.read_csv('data/other_data/facebook-data-ads.csv',\n",
    "                      parse_dates=['Reporting starts','Reporting ends'])"
   ]
  },
  {
   "cell_type": "code",
   "execution_count": 8,
   "metadata": {},
   "outputs": [
    {
     "data": {
      "text/html": [
       "<div>\n",
       "<style scoped>\n",
       "    .dataframe tbody tr th:only-of-type {\n",
       "        vertical-align: middle;\n",
       "    }\n",
       "\n",
       "    .dataframe tbody tr th {\n",
       "        vertical-align: top;\n",
       "    }\n",
       "\n",
       "    .dataframe thead th {\n",
       "        text-align: right;\n",
       "    }\n",
       "</style>\n",
       "<table border=\"1\" class=\"dataframe\">\n",
       "  <thead>\n",
       "    <tr style=\"text-align: right;\">\n",
       "      <th></th>\n",
       "      <th>Page</th>\n",
       "      <th>Pageviews</th>\n",
       "      <th>Unique Pageviews</th>\n",
       "      <th>Avg. Time on Page</th>\n",
       "      <th>Entrances</th>\n",
       "      <th>Bounce Rate</th>\n",
       "      <th>% Exit</th>\n",
       "      <th>Page Value</th>\n",
       "    </tr>\n",
       "  </thead>\n",
       "  <tbody>\n",
       "    <tr>\n",
       "      <th>0</th>\n",
       "      <td>/</td>\n",
       "      <td>813</td>\n",
       "      <td>665</td>\n",
       "      <td>00:02:05</td>\n",
       "      <td>641</td>\n",
       "      <td>14.35%</td>\n",
       "      <td>55.97%</td>\n",
       "      <td>£0.00</td>\n",
       "    </tr>\n",
       "    <tr>\n",
       "      <th>1</th>\n",
       "      <td>/www.miratrix.co.uk</td>\n",
       "      <td>515</td>\n",
       "      <td>388</td>\n",
       "      <td>00:02:17</td>\n",
       "      <td>373</td>\n",
       "      <td>59.25%</td>\n",
       "      <td>56.89%</td>\n",
       "      <td>£0.00</td>\n",
       "    </tr>\n",
       "    <tr>\n",
       "      <th>2</th>\n",
       "      <td>/get-in-touch/</td>\n",
       "      <td>336</td>\n",
       "      <td>163</td>\n",
       "      <td>00:01:06</td>\n",
       "      <td>23</td>\n",
       "      <td>10.53%</td>\n",
       "      <td>33.04%</td>\n",
       "      <td>£0.00</td>\n",
       "    </tr>\n",
       "    <tr>\n",
       "      <th>3</th>\n",
       "      <td>/app-marketing-agency/</td>\n",
       "      <td>140</td>\n",
       "      <td>120</td>\n",
       "      <td>00:02:04</td>\n",
       "      <td>73</td>\n",
       "      <td>18.31%</td>\n",
       "      <td>57.86%</td>\n",
       "      <td>£0.00</td>\n",
       "    </tr>\n",
       "    <tr>\n",
       "      <th>4</th>\n",
       "      <td>/app-store-optimization-services/</td>\n",
       "      <td>136</td>\n",
       "      <td>105</td>\n",
       "      <td>00:01:30</td>\n",
       "      <td>22</td>\n",
       "      <td>14.29%</td>\n",
       "      <td>47.79%</td>\n",
       "      <td>£0.00</td>\n",
       "    </tr>\n",
       "  </tbody>\n",
       "</table>\n",
       "</div>"
      ],
      "text/plain": [
       "                                Page  Pageviews  Unique Pageviews  \\\n",
       "0                                  /        813               665   \n",
       "1                /www.miratrix.co.uk        515               388   \n",
       "2                     /get-in-touch/        336               163   \n",
       "3             /app-marketing-agency/        140               120   \n",
       "4  /app-store-optimization-services/        136               105   \n",
       "\n",
       "  Avg. Time on Page  Entrances Bounce Rate  % Exit Page Value  \n",
       "0          00:02:05        641      14.35%  55.97%      £0.00  \n",
       "1          00:02:17        373      59.25%  56.89%      £0.00  \n",
       "2          00:01:06         23      10.53%  33.04%      £0.00  \n",
       "3          00:02:04         73      18.31%  57.86%      £0.00  \n",
       "4          00:01:30         22      14.29%  47.79%      £0.00  "
      ]
     },
     "execution_count": 8,
     "metadata": {},
     "output_type": "execute_result"
    }
   ],
   "source": [
    "#Fixing google analytics page data\n",
    "ga_page_data.head()"
   ]
  },
  {
   "cell_type": "code",
   "execution_count": 9,
   "metadata": {},
   "outputs": [],
   "source": [
    "#looking at google analytics we a see in Row (0) and (1) Google Analytics has been gathering homepage data under two pages, these pages are (\"/\") and (\"www.mirtrix\".co.uk\")\n",
    "# i will create a URL that can be pair with data gathered from Google Search Console\n"
   ]
  },
  {
   "cell_type": "code",
   "execution_count": 10,
   "metadata": {},
   "outputs": [],
   "source": [
    "###Recreate Google Analytics Page URL"
   ]
  },
  {
   "cell_type": "code",
   "execution_count": 11,
   "metadata": {},
   "outputs": [],
   "source": [
    "#split the url by / \n",
    "split_dom = ga_page_data.Page.str.rpartition(\"/\")"
   ]
  },
  {
   "cell_type": "code",
   "execution_count": 12,
   "metadata": {},
   "outputs": [
    {
     "data": {
      "text/html": [
       "<div>\n",
       "<style scoped>\n",
       "    .dataframe tbody tr th:only-of-type {\n",
       "        vertical-align: middle;\n",
       "    }\n",
       "\n",
       "    .dataframe tbody tr th {\n",
       "        vertical-align: top;\n",
       "    }\n",
       "\n",
       "    .dataframe thead th {\n",
       "        text-align: right;\n",
       "    }\n",
       "</style>\n",
       "<table border=\"1\" class=\"dataframe\">\n",
       "  <thead>\n",
       "    <tr style=\"text-align: right;\">\n",
       "      <th></th>\n",
       "      <th>0</th>\n",
       "      <th>1</th>\n",
       "      <th>2</th>\n",
       "    </tr>\n",
       "  </thead>\n",
       "  <tbody>\n",
       "    <tr>\n",
       "      <th>0</th>\n",
       "      <td></td>\n",
       "      <td>/</td>\n",
       "      <td></td>\n",
       "    </tr>\n",
       "    <tr>\n",
       "      <th>1</th>\n",
       "      <td></td>\n",
       "      <td>/</td>\n",
       "      <td>www.miratrix.co.uk</td>\n",
       "    </tr>\n",
       "    <tr>\n",
       "      <th>2</th>\n",
       "      <td>/get-in-touch</td>\n",
       "      <td>/</td>\n",
       "      <td></td>\n",
       "    </tr>\n",
       "    <tr>\n",
       "      <th>3</th>\n",
       "      <td>/app-marketing-agency</td>\n",
       "      <td>/</td>\n",
       "      <td></td>\n",
       "    </tr>\n",
       "    <tr>\n",
       "      <th>4</th>\n",
       "      <td>/app-store-optimization-services</td>\n",
       "      <td>/</td>\n",
       "      <td></td>\n",
       "    </tr>\n",
       "  </tbody>\n",
       "</table>\n",
       "</div>"
      ],
      "text/plain": [
       "                                  0  1                   2\n",
       "0                                    /                    \n",
       "1                                    /  www.miratrix.co.uk\n",
       "2                     /get-in-touch  /                    \n",
       "3             /app-marketing-agency  /                    \n",
       "4  /app-store-optimization-services  /                    "
      ]
     },
     "execution_count": 12,
     "metadata": {},
     "output_type": "execute_result"
    }
   ],
   "source": [
    "split_dom.head()"
   ]
  },
  {
   "cell_type": "code",
   "execution_count": 13,
   "metadata": {},
   "outputs": [],
   "source": [
    "\n",
    "split_dom[2].replace(\"\", \"miratrix.co.uk\", inplace=True)"
   ]
  },
  {
   "cell_type": "code",
   "execution_count": 14,
   "metadata": {},
   "outputs": [],
   "source": [
    "#Changing URLforms so that it matches other data Sources\n",
    "split_dom[2].replace(\"www.miratrix.co.uk\",\"miratrix.co.uk\", inplace=True)"
   ]
  },
  {
   "cell_type": "code",
   "execution_count": 15,
   "metadata": {},
   "outputs": [
    {
     "data": {
      "text/html": [
       "<div>\n",
       "<style scoped>\n",
       "    .dataframe tbody tr th:only-of-type {\n",
       "        vertical-align: middle;\n",
       "    }\n",
       "\n",
       "    .dataframe tbody tr th {\n",
       "        vertical-align: top;\n",
       "    }\n",
       "\n",
       "    .dataframe thead th {\n",
       "        text-align: right;\n",
       "    }\n",
       "</style>\n",
       "<table border=\"1\" class=\"dataframe\">\n",
       "  <thead>\n",
       "    <tr style=\"text-align: right;\">\n",
       "      <th></th>\n",
       "      <th>0</th>\n",
       "      <th>1</th>\n",
       "      <th>2</th>\n",
       "    </tr>\n",
       "  </thead>\n",
       "  <tbody>\n",
       "    <tr>\n",
       "      <th>0</th>\n",
       "      <td></td>\n",
       "      <td>/</td>\n",
       "      <td>miratrix.co.uk</td>\n",
       "    </tr>\n",
       "    <tr>\n",
       "      <th>1</th>\n",
       "      <td></td>\n",
       "      <td>/</td>\n",
       "      <td>miratrix.co.uk</td>\n",
       "    </tr>\n",
       "    <tr>\n",
       "      <th>2</th>\n",
       "      <td>/get-in-touch</td>\n",
       "      <td>/</td>\n",
       "      <td>miratrix.co.uk</td>\n",
       "    </tr>\n",
       "    <tr>\n",
       "      <th>3</th>\n",
       "      <td>/app-marketing-agency</td>\n",
       "      <td>/</td>\n",
       "      <td>miratrix.co.uk</td>\n",
       "    </tr>\n",
       "    <tr>\n",
       "      <th>4</th>\n",
       "      <td>/app-store-optimization-services</td>\n",
       "      <td>/</td>\n",
       "      <td>miratrix.co.uk</td>\n",
       "    </tr>\n",
       "  </tbody>\n",
       "</table>\n",
       "</div>"
      ],
      "text/plain": [
       "                                  0  1               2\n",
       "0                                    /  miratrix.co.uk\n",
       "1                                    /  miratrix.co.uk\n",
       "2                     /get-in-touch  /  miratrix.co.uk\n",
       "3             /app-marketing-agency  /  miratrix.co.uk\n",
       "4  /app-store-optimization-services  /  miratrix.co.uk"
      ]
     },
     "execution_count": 15,
     "metadata": {},
     "output_type": "execute_result"
    }
   ],
   "source": [
    "split_dom.head()"
   ]
  },
  {
   "cell_type": "code",
   "execution_count": 18,
   "metadata": {},
   "outputs": [],
   "source": [
    "#build the URL and replace current URL's with new URL Format\n",
    "ga_page_data.Page = \"https://\"+split_dom[2] + split_dom[0] + \"/\""
   ]
  },
  {
   "cell_type": "code",
   "execution_count": 19,
   "metadata": {},
   "outputs": [
    {
     "data": {
      "text/html": [
       "<div>\n",
       "<style scoped>\n",
       "    .dataframe tbody tr th:only-of-type {\n",
       "        vertical-align: middle;\n",
       "    }\n",
       "\n",
       "    .dataframe tbody tr th {\n",
       "        vertical-align: top;\n",
       "    }\n",
       "\n",
       "    .dataframe thead th {\n",
       "        text-align: right;\n",
       "    }\n",
       "</style>\n",
       "<table border=\"1\" class=\"dataframe\">\n",
       "  <thead>\n",
       "    <tr style=\"text-align: right;\">\n",
       "      <th></th>\n",
       "      <th>Page</th>\n",
       "      <th>Pageviews</th>\n",
       "      <th>Unique Pageviews</th>\n",
       "      <th>Avg. Time on Page</th>\n",
       "      <th>Entrances</th>\n",
       "      <th>Bounce Rate</th>\n",
       "      <th>% Exit</th>\n",
       "      <th>Page Value</th>\n",
       "    </tr>\n",
       "  </thead>\n",
       "  <tbody>\n",
       "    <tr>\n",
       "      <th>0</th>\n",
       "      <td>https://miratrix.co.uk/</td>\n",
       "      <td>813</td>\n",
       "      <td>665</td>\n",
       "      <td>00:02:05</td>\n",
       "      <td>641</td>\n",
       "      <td>14.35%</td>\n",
       "      <td>55.97%</td>\n",
       "      <td>£0.00</td>\n",
       "    </tr>\n",
       "    <tr>\n",
       "      <th>1</th>\n",
       "      <td>https://miratrix.co.uk/</td>\n",
       "      <td>515</td>\n",
       "      <td>388</td>\n",
       "      <td>00:02:17</td>\n",
       "      <td>373</td>\n",
       "      <td>59.25%</td>\n",
       "      <td>56.89%</td>\n",
       "      <td>£0.00</td>\n",
       "    </tr>\n",
       "    <tr>\n",
       "      <th>2</th>\n",
       "      <td>https://miratrix.co.uk/get-in-touch/</td>\n",
       "      <td>336</td>\n",
       "      <td>163</td>\n",
       "      <td>00:01:06</td>\n",
       "      <td>23</td>\n",
       "      <td>10.53%</td>\n",
       "      <td>33.04%</td>\n",
       "      <td>£0.00</td>\n",
       "    </tr>\n",
       "    <tr>\n",
       "      <th>3</th>\n",
       "      <td>https://miratrix.co.uk/app-marketing-agency/</td>\n",
       "      <td>140</td>\n",
       "      <td>120</td>\n",
       "      <td>00:02:04</td>\n",
       "      <td>73</td>\n",
       "      <td>18.31%</td>\n",
       "      <td>57.86%</td>\n",
       "      <td>£0.00</td>\n",
       "    </tr>\n",
       "    <tr>\n",
       "      <th>4</th>\n",
       "      <td>https://miratrix.co.uk/app-store-optimization-...</td>\n",
       "      <td>136</td>\n",
       "      <td>105</td>\n",
       "      <td>00:01:30</td>\n",
       "      <td>22</td>\n",
       "      <td>14.29%</td>\n",
       "      <td>47.79%</td>\n",
       "      <td>£0.00</td>\n",
       "    </tr>\n",
       "  </tbody>\n",
       "</table>\n",
       "</div>"
      ],
      "text/plain": [
       "                                                Page  Pageviews  \\\n",
       "0                            https://miratrix.co.uk/        813   \n",
       "1                            https://miratrix.co.uk/        515   \n",
       "2               https://miratrix.co.uk/get-in-touch/        336   \n",
       "3       https://miratrix.co.uk/app-marketing-agency/        140   \n",
       "4  https://miratrix.co.uk/app-store-optimization-...        136   \n",
       "\n",
       "   Unique Pageviews Avg. Time on Page  Entrances Bounce Rate  % Exit  \\\n",
       "0               665          00:02:05        641      14.35%  55.97%   \n",
       "1               388          00:02:17        373      59.25%  56.89%   \n",
       "2               163          00:01:06         23      10.53%  33.04%   \n",
       "3               120          00:02:04         73      18.31%  57.86%   \n",
       "4               105          00:01:30         22      14.29%  47.79%   \n",
       "\n",
       "  Page Value  \n",
       "0      £0.00  \n",
       "1      £0.00  \n",
       "2      £0.00  \n",
       "3      £0.00  \n",
       "4      £0.00  "
      ]
     },
     "execution_count": 19,
     "metadata": {},
     "output_type": "execute_result"
    }
   ],
   "source": [
    "ga_page_data.head()"
   ]
  },
  {
   "cell_type": "code",
   "execution_count": 20,
   "metadata": {},
   "outputs": [],
   "source": [
    "#Grouping Data\n",
    "#-in order to fix the issue of having two homepage URL we need to group the data by Page. This Poses some issues as not all the data are numerical and you are also dealing with a timeseries\n",
    "\n",
    "#What can be done is to change the object feilds to numerical and to convert the time on page column to a timedelta "
   ]
  },
  {
   "cell_type": "code",
   "execution_count": 24,
   "metadata": {},
   "outputs": [],
   "source": [
    "#Replace 0 with time format 00:00:00\n",
    "ga_page_data['Avg. Time on Page'] = ga_page_data['Avg. Time on Page'].replace(0, '00:00:00')"
   ]
  },
  {
   "cell_type": "code",
   "execution_count": 26,
   "metadata": {},
   "outputs": [],
   "source": [
    "#Convert column from string to time delta\n",
    "ga_page_data['Avg. Time on Page'] = pd.to_timedelta(ga_page_data['Avg. Time on Page'])"
   ]
  },
  {
   "cell_type": "code",
   "execution_count": 28,
   "metadata": {},
   "outputs": [],
   "source": [
    "#Replace $ with Nothing\n",
    "ga_page_data['Bounce Rate'] = ga_page_data['Bounce Rate'].str.replace('%',\"\")\n",
    "\n",
    "#Convert the coloumn into a flot\n",
    "ga_page_data['Bounce Rate'] = ga_page_data['Bounce Rate'].astype('float')"
   ]
  },
  {
   "cell_type": "code",
   "execution_count": 33,
   "metadata": {},
   "outputs": [],
   "source": [
    "#Replace % with Nothing \n",
    "ga_page_data['% Exit'] = ga_page_data['% Exit'].str.replace('%',\"\")\n",
    "ga_page_data['% Exit'] = ga_page_data['% Exit'].astype('float')"
   ]
  },
  {
   "cell_type": "code",
   "execution_count": 38,
   "metadata": {},
   "outputs": [],
   "source": [
    "# ['Page Value']\n",
    "ga_page_data['Page Value'] = ga_page_data['Page Value'].str.replace('£',\"\")\n",
    "ga_page_data['Page Value'] = ga_page_data['Page Value'].astype('float')"
   ]
  },
  {
   "cell_type": "code",
   "execution_count": 39,
   "metadata": {},
   "outputs": [],
   "source": [
    "#set the index for the dataframe to page\n",
    "ga_page_data.set_index('Page',inplace=True)"
   ]
  },
  {
   "cell_type": "code",
   "execution_count": 40,
   "metadata": {},
   "outputs": [
    {
     "name": "stdout",
     "output_type": "stream",
     "text": [
      "<class 'pandas.core.frame.DataFrame'>\n",
      "Index: 376 entries, https://miratrix.co.uk/ to https://www.miratrix.co.uk#utm_source=nav&utm_medium=traffic&utm_campaign=datatools/\n",
      "Data columns (total 7 columns):\n",
      " #   Column             Non-Null Count  Dtype          \n",
      "---  ------             --------------  -----          \n",
      " 0   Pageviews          376 non-null    int64          \n",
      " 1   Unique Pageviews   376 non-null    int64          \n",
      " 2   Avg. Time on Page  376 non-null    timedelta64[ns]\n",
      " 3   Entrances          376 non-null    int64          \n",
      " 4   Bounce Rate        376 non-null    float64        \n",
      " 5   % Exit             376 non-null    float64        \n",
      " 6   Page Value         376 non-null    float64        \n",
      "dtypes: float64(3), int64(3), timedelta64[ns](1)\n",
      "memory usage: 23.5+ KB\n"
     ]
    }
   ],
   "source": [
    "ga_page_data.info()"
   ]
  },
  {
   "cell_type": "code",
   "execution_count": null,
   "metadata": {},
   "outputs": [],
   "source": []
  }
 ],
 "metadata": {
  "kernelspec": {
   "display_name": "Python 3",
   "language": "python",
   "name": "python3"
  },
  "language_info": {
   "codemirror_mode": {
    "name": "ipython",
    "version": 3
   },
   "file_extension": ".py",
   "mimetype": "text/x-python",
   "name": "python",
   "nbconvert_exporter": "python",
   "pygments_lexer": "ipython3",
   "version": "3.8.5"
  }
 },
 "nbformat": 4,
 "nbformat_minor": 4
}
