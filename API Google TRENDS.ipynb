{
 "cells": [
  {
   "cell_type": "code",
   "execution_count": 131,
   "metadata": {},
   "outputs": [],
   "source": [
    "from pytrends.request import TrendReq\n",
    "from matplotlib import pyplot as plt\n",
    "import numpy as np\n",
    "import pandas as pd"
   ]
  },
  {
   "cell_type": "code",
   "execution_count": 132,
   "metadata": {},
   "outputs": [],
   "source": [
    "pytrend = TrendReq()"
   ]
  },
  {
   "cell_type": "code",
   "execution_count": 2,
   "metadata": {},
   "outputs": [],
   "source": [
    "#create a Google Trend Object"
   ]
  },
  {
   "cell_type": "code",
   "execution_count": null,
   "metadata": {},
   "outputs": [],
   "source": []
  },
  {
   "cell_type": "code",
   "execution_count": 147,
   "metadata": {},
   "outputs": [],
   "source": [
    "kw_list=[\"Healthcare\"]\n"
   ]
  },
  {
   "cell_type": "code",
   "execution_count": 150,
   "metadata": {},
   "outputs": [],
   "source": [
    "pytrends.build_payload(kw_list, geo='US', gprop='news')\n"
   ]
  },
  {
   "cell_type": "code",
   "execution_count": 149,
   "metadata": {},
   "outputs": [],
   "source": [
    "pytrend.build_payload(kw_list=['Facemask'])"
   ]
  },
  {
   "cell_type": "code",
   "execution_count": 143,
   "metadata": {},
   "outputs": [
    {
     "data": {
      "text/plain": [
       "dict_values([{'top':                      query  value\n",
       "0                     mask    100\n",
       "1                face mask     86\n",
       "2                    masks     24\n",
       "3               face masks     18\n",
       "4            make facemask     17\n",
       "5            best facemask     14\n",
       "6     how to make facemask     13\n",
       "7            wear facemask     11\n",
       "8        football facemask     11\n",
       "9         facemask pattern     10\n",
       "10            facemask diy     10\n",
       "11         facemask amazon      9\n",
       "12          black facemask      9\n",
       "13         make a facemask      9\n",
       "14          covid facemask      8\n",
       "15        wearing facemask      7\n",
       "16               facemasks      7\n",
       "17             facemask uk      7\n",
       "18            facemask n95      7\n",
       "19       homemade facemask      7\n",
       "20            buy facemask      7\n",
       "21  how to make a facemask      7\n",
       "22                 riddell      6\n",
       "23        riddell facemask      6\n",
       "24       facemask for sale      6, 'rising':                    query   value\n",
       "0         covid facemask  191750\n",
       "1      face mask pattern   98350\n",
       "2      reusable facemask   84300\n",
       "3        corona facemask   83300\n",
       "4          facemask etsy   81900\n",
       "5                   etsy   81450\n",
       "6       facemask near me   56200\n",
       "7         trump facemask   52500\n",
       "8        cloth face mask   50950\n",
       "9        adidas facemask   50450\n",
       "10      fabric face mask   48950\n",
       "11     washable facemask   44650\n",
       "12     peel off facemask   40300\n",
       "13  pattern for facemask   39650\n",
       "14        etsy face mask   33400\n",
       "15     designer facemask   33050\n",
       "16        gucci facemask   31600\n",
       "17         kn95 facemask   25450\n",
       "18  disposable face mask   25300\n",
       "19    facemask with ties   25100\n",
       "20       disney facemask   22250\n",
       "21         bape facemask   21700\n",
       "22      adidas face mask   19900\n",
       "23        facemask 3 ply   15350\n",
       "24    christmas facemask   15200}])"
      ]
     },
     "execution_count": 143,
     "metadata": {},
     "output_type": "execute_result"
    }
   ],
   "source": [
    "related_queries = pytrend.related_queries()\n",
    "related_queries.values()"
   ]
  },
  {
   "cell_type": "code",
   "execution_count": null,
   "metadata": {},
   "outputs": [],
   "source": []
  },
  {
   "cell_type": "code",
   "execution_count": null,
   "metadata": {},
   "outputs": [],
   "source": []
  },
  {
   "cell_type": "code",
   "execution_count": null,
   "metadata": {},
   "outputs": [],
   "source": [
    "\n"
   ]
  },
  {
   "cell_type": "code",
   "execution_count": null,
   "metadata": {},
   "outputs": [],
   "source": [
    "\n"
   ]
  },
  {
   "cell_type": "code",
   "execution_count": null,
   "metadata": {},
   "outputs": [],
   "source": []
  }
 ],
 "metadata": {
  "kernelspec": {
   "display_name": "Python 3",
   "language": "python",
   "name": "python3"
  },
  "language_info": {
   "codemirror_mode": {
    "name": "ipython",
    "version": 3
   },
   "file_extension": ".py",
   "mimetype": "text/x-python",
   "name": "python",
   "nbconvert_exporter": "python",
   "pygments_lexer": "ipython3",
   "version": "3.8.5"
  }
 },
 "nbformat": 4,
 "nbformat_minor": 4
}
